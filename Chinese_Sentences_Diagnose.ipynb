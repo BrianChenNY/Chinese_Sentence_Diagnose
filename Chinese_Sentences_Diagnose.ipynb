{
 "cells": [
  {
   "cell_type": "code",
   "execution_count": 1,
   "metadata": {},
   "outputs": [],
   "source": [
    "import requests, re, jieba.analyse"
   ]
  },
  {
   "cell_type": "code",
   "execution_count": 13,
   "metadata": {},
   "outputs": [
    {
     "name": "stdout",
     "output_type": "stream",
     "text": [
      "请输入文本：它们是不是个煞笔\n",
      "\n",
      "\" 它们是不是个煞笔 \"中含有贬义词：\n",
      "['煞笔'] , 总计 1 个\n",
      "Healthy Precent: 67%\n"
     ]
    }
   ],
   "source": [
    "text_input = input(\"请输入文本：\")\n",
    "tokenized = jieba.analyse.extract_tags(text_input)\n",
    "Result = list(set('/'.join(tokenized).split('/')))\n",
    "\n",
    "count = 0\n",
    "dirty_words = []\n",
    "dirty_keys = ['骂', '粗', '脏', '贬', '负面', '秽']\n",
    "\n",
    "for word1 in Result:\n",
    "    url = 'http://www.baike.com/wiki/'+word1\n",
    "    html = requests.get(url).text\n",
    "    Flitered = re.compile(u'[\\u4e00-\\u9fa5]+') # 匹配所有中文\n",
    "    Flitered = ' '.join(Flitered.findall(html))\n",
    "    \n",
    "    for word2 in Flitered:\n",
    "        if word2 in dirty_keys:\n",
    "            count += 1\n",
    "            dirty_words.append(word1)\n",
    "            break\n",
    "\n",
    "Overall = len(Result)\n",
    "print('\\n\"', text_input, '\"中含有贬义词：')\n",
    "print(dirty_words, ', 总计', len(dirty_words), '个')\n",
    "print('Healthy Precent: {:.0%}'.format(1-count/Overall))\n",
    "    \n"
   ]
  },
  {
   "cell_type": "code",
   "execution_count": null,
   "metadata": {},
   "outputs": [],
   "source": []
  }
 ],
 "metadata": {
  "kernelspec": {
   "display_name": "Python 3",
   "language": "python",
   "name": "python3"
  },
  "language_info": {
   "codemirror_mode": {
    "name": "ipython",
    "version": 3
   },
   "file_extension": ".py",
   "mimetype": "text/x-python",
   "name": "python",
   "nbconvert_exporter": "python",
   "pygments_lexer": "ipython3",
   "version": "3.7.4"
  }
 },
 "nbformat": 4,
 "nbformat_minor": 2
}
